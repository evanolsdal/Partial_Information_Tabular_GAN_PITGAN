{
 "cells": [
  {
   "cell_type": "code",
   "execution_count": 20,
   "metadata": {},
   "outputs": [],
   "source": [
    "import pandas as pd \n",
    "import numpy as np"
   ]
  },
  {
   "cell_type": "markdown",
   "metadata": {},
   "source": [
    "Start by loading in the raw data."
   ]
  },
  {
   "cell_type": "code",
   "execution_count": 21,
   "metadata": {},
   "outputs": [],
   "source": [
    "data = pd.read_csv('C:/Users/olsda/OneDrive/Documents/NU classes/Year 4/MMSS Thesis/PITGAN Implenetation/Data/usa_00001/census.csv')"
   ]
  },
  {
   "cell_type": "markdown",
   "metadata": {},
   "source": [
    "Next we are going to drop the columns that are not relevant to the analysis."
   ]
  },
  {
   "cell_type": "code",
   "execution_count": 22,
   "metadata": {},
   "outputs": [],
   "source": [
    "relevant_cols = ['REGION', 'SEX', 'MARST', 'RACE', 'RACED', 'CITIZEN', 'EDUC','HCOVANY','HCOVPUB', 'EMPSTAT', 'POVERTY', \n",
    "                'INCTOT', 'FAMSIZE', 'AGE']\n",
    "\n",
    "data = data[relevant_cols]"
   ]
  },
  {
   "cell_type": "code",
   "execution_count": 25,
   "metadata": {},
   "outputs": [
    {
     "data": {
      "text/html": [
       "<div>\n",
       "<style scoped>\n",
       "    .dataframe tbody tr th:only-of-type {\n",
       "        vertical-align: middle;\n",
       "    }\n",
       "\n",
       "    .dataframe tbody tr th {\n",
       "        vertical-align: top;\n",
       "    }\n",
       "\n",
       "    .dataframe thead th {\n",
       "        text-align: right;\n",
       "    }\n",
       "</style>\n",
       "<table border=\"1\" class=\"dataframe\">\n",
       "  <thead>\n",
       "    <tr style=\"text-align: right;\">\n",
       "      <th></th>\n",
       "      <th>REGION</th>\n",
       "      <th>SEX</th>\n",
       "      <th>MARST</th>\n",
       "      <th>RACE</th>\n",
       "      <th>RACED</th>\n",
       "      <th>CITIZEN</th>\n",
       "      <th>EDUC</th>\n",
       "      <th>HCOVANY</th>\n",
       "      <th>HCOVPUB</th>\n",
       "      <th>EMPSTAT</th>\n",
       "      <th>POVERTY</th>\n",
       "      <th>INCTOT</th>\n",
       "      <th>FAMSIZE</th>\n",
       "      <th>AGE</th>\n",
       "    </tr>\n",
       "  </thead>\n",
       "  <tbody>\n",
       "    <tr>\n",
       "      <th>0</th>\n",
       "      <td>South</td>\n",
       "      <td>1</td>\n",
       "      <td>1</td>\n",
       "      <td>2</td>\n",
       "      <td>200</td>\n",
       "      <td>0</td>\n",
       "      <td>5</td>\n",
       "      <td>2</td>\n",
       "      <td>1</td>\n",
       "      <td>1</td>\n",
       "      <td>99</td>\n",
       "      <td>3723</td>\n",
       "      <td>3</td>\n",
       "      <td>56</td>\n",
       "    </tr>\n",
       "    <tr>\n",
       "      <th>1</th>\n",
       "      <td>South</td>\n",
       "      <td>2</td>\n",
       "      <td>1</td>\n",
       "      <td>2</td>\n",
       "      <td>200</td>\n",
       "      <td>0</td>\n",
       "      <td>7</td>\n",
       "      <td>2</td>\n",
       "      <td>1</td>\n",
       "      <td>3</td>\n",
       "      <td>99</td>\n",
       "      <td>15107</td>\n",
       "      <td>3</td>\n",
       "      <td>61</td>\n",
       "    </tr>\n",
       "    <tr>\n",
       "      <th>2</th>\n",
       "      <td>South</td>\n",
       "      <td>2</td>\n",
       "      <td>6</td>\n",
       "      <td>2</td>\n",
       "      <td>200</td>\n",
       "      <td>0</td>\n",
       "      <td>1</td>\n",
       "      <td>2</td>\n",
       "      <td>2</td>\n",
       "      <td>0</td>\n",
       "      <td>99</td>\n",
       "      <td>9999999</td>\n",
       "      <td>3</td>\n",
       "      <td>8</td>\n",
       "    </tr>\n",
       "    <tr>\n",
       "      <th>3</th>\n",
       "      <td>South</td>\n",
       "      <td>1</td>\n",
       "      <td>4</td>\n",
       "      <td>2</td>\n",
       "      <td>200</td>\n",
       "      <td>0</td>\n",
       "      <td>7</td>\n",
       "      <td>1</td>\n",
       "      <td>1</td>\n",
       "      <td>1</td>\n",
       "      <td>284</td>\n",
       "      <td>37769</td>\n",
       "      <td>1</td>\n",
       "      <td>61</td>\n",
       "    </tr>\n",
       "    <tr>\n",
       "      <th>4</th>\n",
       "      <td>South</td>\n",
       "      <td>2</td>\n",
       "      <td>4</td>\n",
       "      <td>8</td>\n",
       "      <td>802</td>\n",
       "      <td>0</td>\n",
       "      <td>2</td>\n",
       "      <td>2</td>\n",
       "      <td>2</td>\n",
       "      <td>3</td>\n",
       "      <td>71</td>\n",
       "      <td>9496</td>\n",
       "      <td>1</td>\n",
       "      <td>52</td>\n",
       "    </tr>\n",
       "  </tbody>\n",
       "</table>\n",
       "</div>"
      ],
      "text/plain": [
       "  REGION  SEX  MARST  RACE  RACED  CITIZEN  EDUC  HCOVANY  HCOVPUB  EMPSTAT  \\\n",
       "0  South    1      1     2    200        0     5        2        1        1   \n",
       "1  South    2      1     2    200        0     7        2        1        3   \n",
       "2  South    2      6     2    200        0     1        2        2        0   \n",
       "3  South    1      4     2    200        0     7        1        1        1   \n",
       "4  South    2      4     8    802        0     2        2        2        3   \n",
       "\n",
       "   POVERTY   INCTOT  FAMSIZE  AGE  \n",
       "0       99     3723        3   56  \n",
       "1       99    15107        3   61  \n",
       "2       99  9999999        3    8  \n",
       "3      284    37769        1   61  \n",
       "4       71     9496        1   52  "
      ]
     },
     "execution_count": 25,
     "metadata": {},
     "output_type": "execute_result"
    }
   ],
   "source": [
    "data.head()"
   ]
  },
  {
   "cell_type": "code",
   "execution_count": 5,
   "metadata": {},
   "outputs": [
    {
     "data": {
      "text/plain": [
       "(15947624, 14)"
      ]
     },
     "execution_count": 5,
     "metadata": {},
     "output_type": "execute_result"
    }
   ],
   "source": [
    "data.shape"
   ]
  },
  {
   "cell_type": "markdown",
   "metadata": {},
   "source": [
    "Convert the regions column to the different regions. These regions are encoded as their overall geographical regions."
   ]
  },
  {
   "cell_type": "code",
   "execution_count": 24,
   "metadata": {},
   "outputs": [],
   "source": [
    "# Mapping dictionary\n",
    "region_mapping = {\n",
    "    11: 'Norhteast',\n",
    "    12: 'Norhteast',\n",
    "    13: 'Norhteast',\n",
    "    21: 'Midwest',\n",
    "    22: 'Midwest',\n",
    "    23: 'Midwest',\n",
    "    31: 'South',\n",
    "    32: 'South',\n",
    "    33: 'South',\n",
    "    34: 'South',\n",
    "    41: 'West',\n",
    "    42: 'West',\n",
    "    43: 'West',\n",
    "    91: 'Unidentified',\n",
    "    92: 'Unidentified',\n",
    "    97: 'Unidentified',\n",
    "    99: 'Unidentified'\n",
    "}\n",
    "\n",
    "# Applying the mapping\n",
    "data['REGION'] = data['REGION'].map(region_mapping)"
   ]
  },
  {
   "cell_type": "markdown",
   "metadata": {},
   "source": [
    "Remove records with a missing age"
   ]
  },
  {
   "cell_type": "code",
   "execution_count": 26,
   "metadata": {},
   "outputs": [],
   "source": [
    "data = data[data['AGE']!=999]"
   ]
  },
  {
   "cell_type": "markdown",
   "metadata": {},
   "source": [
    "Convert the sex, and drop all the rows where the sex is missing as this is a category used for identification."
   ]
  },
  {
   "cell_type": "code",
   "execution_count": 27,
   "metadata": {},
   "outputs": [],
   "source": [
    "# Mapping dictionary\n",
    "sex_mapping = {\n",
    "    1: 'Male',\n",
    "    2: 'Female'\n",
    "}\n",
    "\n",
    "# Filter missing sex\n",
    "data = data[data['SEX']!=9]\n",
    "\n",
    "# Applying the mapping to the remaining values\n",
    "data['SEX'] = data['SEX'].map(sex_mapping)"
   ]
  },
  {
   "cell_type": "markdown",
   "metadata": {},
   "source": [
    "Convert the marital status column to reflect if someone is married, separated, or single. Also filter out column which are missing this values as it again is used for identification."
   ]
  },
  {
   "cell_type": "code",
   "execution_count": 28,
   "metadata": {},
   "outputs": [],
   "source": [
    "# Mapping dictionary\n",
    "marital_mapping = {\n",
    "    1: 'Married',\n",
    "    2: 'Married',\n",
    "    3: 'Separated',\n",
    "    4: 'Separated',\n",
    "    5: 'Widowed',\n",
    "    6: 'Single'\n",
    "}\n",
    "\n",
    "# Filter missing marital status\n",
    "data = data[data['MARST']!=9]\n",
    "\n",
    "# Applying the mapping to the remaining values\n",
    "data['MARST'] = data['MARST'].map(marital_mapping)"
   ]
  },
  {
   "cell_type": "markdown",
   "metadata": {},
   "source": [
    "Convert the race colum to reflect some of the major race categories."
   ]
  },
  {
   "cell_type": "code",
   "execution_count": 29,
   "metadata": {},
   "outputs": [],
   "source": [
    "# Mapping dictionary\n",
    "race_mapping = {\n",
    "    1: 'White',\n",
    "    2: 'Black',\n",
    "    3: 'Native_Amer',\n",
    "    4: 'Asian',\n",
    "    5: 'Asian',\n",
    "    6: 'Asian',\n",
    "    7: 'Other',\n",
    "    8: 'Multi',\n",
    "    9: 'Multi'\n",
    "}\n",
    "\n",
    "# Applying the mapping to the remaining values\n",
    "data['RACE'] = data['RACE'].map(race_mapping)"
   ]
  },
  {
   "cell_type": "markdown",
   "metadata": {},
   "source": [
    "Convert the citizenship column to just reflect if someone is or is not a citizen. Drop missing values."
   ]
  },
  {
   "cell_type": "code",
   "execution_count": 30,
   "metadata": {},
   "outputs": [],
   "source": [
    "# Define the mapping from detailed status to 'Yes' or 'No'\n",
    "citizenship_mapping = {\n",
    "    0: \"Yes\",  \n",
    "    1: \"Yes\",\n",
    "    2: \"Yes\",\n",
    "    3: \"No\",\n",
    "    4: \"No\",  \n",
    "    5: \"No\"\n",
    "}\n",
    "\n",
    "# Filter missing citizenship\n",
    "data = data[(data['CITIZEN'] != 9) & (data['CITIZEN'] != 8)]\n",
    "\n",
    "# Applying the mapping to the remaining values\n",
    "data['CITIZEN'] = data['CITIZEN'].map(citizenship_mapping)"
   ]
  },
  {
   "cell_type": "markdown",
   "metadata": {},
   "source": [
    "Convert the education to reflect the higheset level of educational achievement. "
   ]
  },
  {
   "cell_type": "code",
   "execution_count": 31,
   "metadata": {},
   "outputs": [],
   "source": [
    "# Function to categorize education\n",
    "def categorize_education(code):\n",
    "    code = int(code)  # Convert to integer for comparison\n",
    "    if code < 6:\n",
    "        return 'Not_Complete'\n",
    "    elif 6 <= code <= 9:\n",
    "        return 'High_School'\n",
    "    elif code == 10:\n",
    "        return 'Bachelors'\n",
    "    elif code == 11:\n",
    "        return 'Masters'\n",
    "\n",
    "# Filter missing education\n",
    "data = data[data['EDUC']!=99]\n",
    "\n",
    "# Apply the function to the 'EDUC' column\n",
    "data['EDUC'] = data['EDUC'].apply(categorize_education)"
   ]
  },
  {
   "cell_type": "markdown",
   "metadata": {},
   "source": [
    "Convert the Health Care coverage to three categories, no insurance, public insurance and private insurance."
   ]
  },
  {
   "cell_type": "code",
   "execution_count": 32,
   "metadata": {},
   "outputs": [],
   "source": [
    "# Define the function to determine health coverage\n",
    "def determine_health_coverage(row):\n",
    "    if row['HCOVANY'] == 1:\n",
    "        return 'No_Cov'\n",
    "    elif row['HCOVANY'] == 2 and row['HCOVPUB'] == 1:\n",
    "        return 'Priv_Cov'\n",
    "    elif row['HCOVANY'] == 2 and row['HCOVPUB'] == 2:\n",
    "        return 'Pub_Cov'\n",
    "\n",
    "# Apply the function across rows to create the new column\n",
    "data['HEALTHCOV'] = data.apply(determine_health_coverage, axis=1)\n",
    "\n",
    "# Drop the two previous columns\n",
    "data.drop(['HCOVANY', 'HCOVPUB'], axis=1, inplace=True)"
   ]
  },
  {
   "cell_type": "markdown",
   "metadata": {},
   "source": [
    "Convert the employment status to clear categories. Filter out rows with missing values or those that are too young to be eligable."
   ]
  },
  {
   "cell_type": "code",
   "execution_count": 33,
   "metadata": {},
   "outputs": [],
   "source": [
    "# Define the mapping from detailed status\n",
    "employment_mapping = {\n",
    "    1: \"Employed\",  \n",
    "    2: \"Unemployed\",\n",
    "    3: \"Not_in_LaborF\"\n",
    "}\n",
    "\n",
    "# Filter missing employment status\n",
    "data = data[(data['EMPSTAT'] != 9) & (data['EMPSTAT'] != 0)]\n",
    "\n",
    "# Applying the mapping to the remaining values\n",
    "data['EMPSTAT'] = data['EMPSTAT'].map(employment_mapping)"
   ]
  },
  {
   "cell_type": "markdown",
   "metadata": {},
   "source": [
    "Convert the poverty column to those above or below the basic poverty line."
   ]
  },
  {
   "cell_type": "code",
   "execution_count": 34,
   "metadata": {},
   "outputs": [],
   "source": [
    "# Function to categorize education\n",
    "def categorize_poverty(code):\n",
    "    code = int(code)  # Convert to integer for comparison\n",
    "    if code < 100:\n",
    "        return 'Below'\n",
    "    else:\n",
    "        return 'Above'\n",
    "\n",
    "# Apply the function to the 'EDUC' column\n",
    "data['POVERTY'] = data['POVERTY'].apply(categorize_poverty)"
   ]
  },
  {
   "cell_type": "markdown",
   "metadata": {},
   "source": [
    "Filter out income which is not reported (code = 0)"
   ]
  },
  {
   "cell_type": "code",
   "execution_count": 35,
   "metadata": {},
   "outputs": [],
   "source": [
    "data = data[data['INCTOT']!=0]"
   ]
  },
  {
   "cell_type": "markdown",
   "metadata": {},
   "source": [
    "Reorganize the data into the discrete columns first"
   ]
  },
  {
   "cell_type": "code",
   "execution_count": 39,
   "metadata": {},
   "outputs": [],
   "source": [
    "relevant_cols = ['REGION', 'SEX', 'MARST', 'RACE', 'CITIZEN', 'EDUC','HEALTHCOV', 'EMPSTAT', 'POVERTY', \n",
    "                'INCTOT', 'FAMSIZE', 'AGE']\n",
    "\n",
    "data = data[relevant_cols]"
   ]
  },
  {
   "cell_type": "code",
   "execution_count": 40,
   "metadata": {},
   "outputs": [
    {
     "data": {
      "text/html": [
       "<div>\n",
       "<style scoped>\n",
       "    .dataframe tbody tr th:only-of-type {\n",
       "        vertical-align: middle;\n",
       "    }\n",
       "\n",
       "    .dataframe tbody tr th {\n",
       "        vertical-align: top;\n",
       "    }\n",
       "\n",
       "    .dataframe thead th {\n",
       "        text-align: right;\n",
       "    }\n",
       "</style>\n",
       "<table border=\"1\" class=\"dataframe\">\n",
       "  <thead>\n",
       "    <tr style=\"text-align: right;\">\n",
       "      <th></th>\n",
       "      <th>REGION</th>\n",
       "      <th>SEX</th>\n",
       "      <th>MARST</th>\n",
       "      <th>RACE</th>\n",
       "      <th>CITIZEN</th>\n",
       "      <th>EDUC</th>\n",
       "      <th>HEALTHCOV</th>\n",
       "      <th>EMPSTAT</th>\n",
       "      <th>POVERTY</th>\n",
       "      <th>INCTOT</th>\n",
       "      <th>FAMSIZE</th>\n",
       "      <th>AGE</th>\n",
       "    </tr>\n",
       "  </thead>\n",
       "  <tbody>\n",
       "    <tr>\n",
       "      <th>0</th>\n",
       "      <td>South</td>\n",
       "      <td>Male</td>\n",
       "      <td>Married</td>\n",
       "      <td>Black</td>\n",
       "      <td>Yes</td>\n",
       "      <td>Not_Complete</td>\n",
       "      <td>Priv_Cov</td>\n",
       "      <td>Employed</td>\n",
       "      <td>Below</td>\n",
       "      <td>3723</td>\n",
       "      <td>3</td>\n",
       "      <td>56</td>\n",
       "    </tr>\n",
       "    <tr>\n",
       "      <th>1</th>\n",
       "      <td>South</td>\n",
       "      <td>Female</td>\n",
       "      <td>Married</td>\n",
       "      <td>Black</td>\n",
       "      <td>Yes</td>\n",
       "      <td>High_School</td>\n",
       "      <td>Priv_Cov</td>\n",
       "      <td>Not_in_LaborF</td>\n",
       "      <td>Below</td>\n",
       "      <td>15107</td>\n",
       "      <td>3</td>\n",
       "      <td>61</td>\n",
       "    </tr>\n",
       "    <tr>\n",
       "      <th>3</th>\n",
       "      <td>South</td>\n",
       "      <td>Male</td>\n",
       "      <td>Separated</td>\n",
       "      <td>Black</td>\n",
       "      <td>Yes</td>\n",
       "      <td>High_School</td>\n",
       "      <td>No_Cov</td>\n",
       "      <td>Employed</td>\n",
       "      <td>Above</td>\n",
       "      <td>37769</td>\n",
       "      <td>1</td>\n",
       "      <td>61</td>\n",
       "    </tr>\n",
       "    <tr>\n",
       "      <th>4</th>\n",
       "      <td>South</td>\n",
       "      <td>Female</td>\n",
       "      <td>Separated</td>\n",
       "      <td>Multi</td>\n",
       "      <td>Yes</td>\n",
       "      <td>Not_Complete</td>\n",
       "      <td>Pub_Cov</td>\n",
       "      <td>Not_in_LaborF</td>\n",
       "      <td>Below</td>\n",
       "      <td>9496</td>\n",
       "      <td>1</td>\n",
       "      <td>52</td>\n",
       "    </tr>\n",
       "    <tr>\n",
       "      <th>5</th>\n",
       "      <td>South</td>\n",
       "      <td>Male</td>\n",
       "      <td>Widowed</td>\n",
       "      <td>White</td>\n",
       "      <td>Yes</td>\n",
       "      <td>Bachelors</td>\n",
       "      <td>Pub_Cov</td>\n",
       "      <td>Not_in_LaborF</td>\n",
       "      <td>Above</td>\n",
       "      <td>14244</td>\n",
       "      <td>1</td>\n",
       "      <td>84</td>\n",
       "    </tr>\n",
       "  </tbody>\n",
       "</table>\n",
       "</div>"
      ],
      "text/plain": [
       "  REGION     SEX      MARST   RACE CITIZEN          EDUC HEALTHCOV  \\\n",
       "0  South    Male    Married  Black     Yes  Not_Complete  Priv_Cov   \n",
       "1  South  Female    Married  Black     Yes   High_School  Priv_Cov   \n",
       "3  South    Male  Separated  Black     Yes   High_School    No_Cov   \n",
       "4  South  Female  Separated  Multi     Yes  Not_Complete   Pub_Cov   \n",
       "5  South    Male    Widowed  White     Yes     Bachelors   Pub_Cov   \n",
       "\n",
       "         EMPSTAT POVERTY  INCTOT  FAMSIZE  AGE  \n",
       "0       Employed   Below    3723        3   56  \n",
       "1  Not_in_LaborF   Below   15107        3   61  \n",
       "3       Employed   Above   37769        1   61  \n",
       "4  Not_in_LaborF   Below    9496        1   52  \n",
       "5  Not_in_LaborF   Above   14244        1   84  "
      ]
     },
     "execution_count": 40,
     "metadata": {},
     "output_type": "execute_result"
    }
   ],
   "source": [
    "data.head()"
   ]
  },
  {
   "cell_type": "code",
   "execution_count": 41,
   "metadata": {},
   "outputs": [
    {
     "data": {
      "text/plain": [
       "(11591603, 12)"
      ]
     },
     "execution_count": 41,
     "metadata": {},
     "output_type": "execute_result"
    }
   ],
   "source": [
    "data.shape"
   ]
  },
  {
   "cell_type": "markdown",
   "metadata": {},
   "source": [
    "Finally store the data as a new csv for use later."
   ]
  },
  {
   "cell_type": "code",
   "execution_count": 42,
   "metadata": {},
   "outputs": [],
   "source": [
    "data.to_csv('C:/Users/olsda/OneDrive/Documents/NU classes/Year 4/MMSS Thesis/PITGAN Implenetation/Data/usa_00001/census_clean.csv', index=False)"
   ]
  }
 ],
 "metadata": {
  "kernelspec": {
   "display_name": "Python 3",
   "language": "python",
   "name": "python3"
  },
  "language_info": {
   "codemirror_mode": {
    "name": "ipython",
    "version": 3
   },
   "file_extension": ".py",
   "mimetype": "text/x-python",
   "name": "python",
   "nbconvert_exporter": "python",
   "pygments_lexer": "ipython3",
   "version": "3.12.1"
  }
 },
 "nbformat": 4,
 "nbformat_minor": 2
}
