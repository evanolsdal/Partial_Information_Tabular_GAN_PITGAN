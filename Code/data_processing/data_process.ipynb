{
 "cells": [
  {
   "cell_type": "code",
   "execution_count": 43,
   "metadata": {},
   "outputs": [],
   "source": [
    "import pandas as pd \n",
    "import numpy as np"
   ]
  },
  {
   "cell_type": "markdown",
   "metadata": {},
   "source": [
    "Start by loading in the raw data."
   ]
  },
  {
   "cell_type": "code",
   "execution_count": 45,
   "metadata": {},
   "outputs": [],
   "source": [
    "data = pd.read_csv('C:/Users/olsda/OneDrive/Documents/NU classes/Year 4/MMSS Thesis/PITGAN Implenetation/Data/usa_00001/census.csv')"
   ]
  },
  {
   "cell_type": "markdown",
   "metadata": {},
   "source": [
    "Select only the 2019 samples"
   ]
  },
  {
   "cell_type": "code",
   "execution_count": 46,
   "metadata": {},
   "outputs": [
    {
     "data": {
      "text/plain": [
       "Index(['Unnamed: 0', 'YEAR', 'MULTIYEAR', 'SAMPLE', 'SERIAL', 'CBSERIAL',\n",
       "       'HHWT', 'CLUSTER', 'REGION', 'STATEICP', 'STRATA', 'GQ', 'PERNUM',\n",
       "       'PERWT', 'FAMSIZE', 'SEX', 'AGE', 'MARST', 'RACE', 'RACED', 'CITIZEN',\n",
       "       'HCOVANY', 'HCOVPUB', 'EDUC', 'EDUCD', 'EMPSTAT', 'EMPSTATD', 'INCTOT',\n",
       "       'POVERTY'],\n",
       "      dtype='object')"
      ]
     },
     "execution_count": 46,
     "metadata": {},
     "output_type": "execute_result"
    }
   ],
   "source": [
    "data.columns"
   ]
  },
  {
   "cell_type": "code",
   "execution_count": 48,
   "metadata": {},
   "outputs": [
    {
     "data": {
      "text/plain": [
       "array([2015, 2016, 2017, 2018, 2019], dtype=int64)"
      ]
     },
     "execution_count": 48,
     "metadata": {},
     "output_type": "execute_result"
    }
   ],
   "source": [
    "data['MULTIYEAR'].unique()"
   ]
  },
  {
   "cell_type": "code",
   "execution_count": 49,
   "metadata": {},
   "outputs": [],
   "source": [
    "data = data[data['MULTIYEAR']==2019]"
   ]
  },
  {
   "cell_type": "code",
   "execution_count": 50,
   "metadata": {},
   "outputs": [
    {
     "data": {
      "text/plain": [
       "(3239553, 29)"
      ]
     },
     "execution_count": 50,
     "metadata": {},
     "output_type": "execute_result"
    }
   ],
   "source": [
    "data.shape"
   ]
  },
  {
   "cell_type": "markdown",
   "metadata": {},
   "source": [
    "Next we are going to drop the columns that are not relevant to the analysis."
   ]
  },
  {
   "cell_type": "code",
   "execution_count": 51,
   "metadata": {},
   "outputs": [],
   "source": [
    "relevant_cols = ['REGION', 'SEX', 'MARST', 'RACE', 'RACED', 'CITIZEN', 'EDUC','HCOVANY','HCOVPUB', 'EMPSTAT', 'POVERTY', \n",
    "                'INCTOT', 'FAMSIZE', 'AGE']\n",
    "\n",
    "data = data[relevant_cols]"
   ]
  },
  {
   "cell_type": "code",
   "execution_count": 52,
   "metadata": {},
   "outputs": [
    {
     "data": {
      "text/html": [
       "<div>\n",
       "<style scoped>\n",
       "    .dataframe tbody tr th:only-of-type {\n",
       "        vertical-align: middle;\n",
       "    }\n",
       "\n",
       "    .dataframe tbody tr th {\n",
       "        vertical-align: top;\n",
       "    }\n",
       "\n",
       "    .dataframe thead th {\n",
       "        text-align: right;\n",
       "    }\n",
       "</style>\n",
       "<table border=\"1\" class=\"dataframe\">\n",
       "  <thead>\n",
       "    <tr style=\"text-align: right;\">\n",
       "      <th></th>\n",
       "      <th>REGION</th>\n",
       "      <th>SEX</th>\n",
       "      <th>MARST</th>\n",
       "      <th>RACE</th>\n",
       "      <th>RACED</th>\n",
       "      <th>CITIZEN</th>\n",
       "      <th>EDUC</th>\n",
       "      <th>HCOVANY</th>\n",
       "      <th>HCOVPUB</th>\n",
       "      <th>EMPSTAT</th>\n",
       "      <th>POVERTY</th>\n",
       "      <th>INCTOT</th>\n",
       "      <th>FAMSIZE</th>\n",
       "      <th>AGE</th>\n",
       "    </tr>\n",
       "  </thead>\n",
       "  <tbody>\n",
       "    <tr>\n",
       "      <th>190557</th>\n",
       "      <td>32</td>\n",
       "      <td>1</td>\n",
       "      <td>6</td>\n",
       "      <td>2</td>\n",
       "      <td>200</td>\n",
       "      <td>0</td>\n",
       "      <td>4</td>\n",
       "      <td>2</td>\n",
       "      <td>2</td>\n",
       "      <td>3</td>\n",
       "      <td>0</td>\n",
       "      <td>9000</td>\n",
       "      <td>1</td>\n",
       "      <td>39</td>\n",
       "    </tr>\n",
       "    <tr>\n",
       "      <th>190558</th>\n",
       "      <td>32</td>\n",
       "      <td>2</td>\n",
       "      <td>6</td>\n",
       "      <td>1</td>\n",
       "      <td>100</td>\n",
       "      <td>0</td>\n",
       "      <td>4</td>\n",
       "      <td>1</td>\n",
       "      <td>1</td>\n",
       "      <td>3</td>\n",
       "      <td>0</td>\n",
       "      <td>150</td>\n",
       "      <td>1</td>\n",
       "      <td>21</td>\n",
       "    </tr>\n",
       "    <tr>\n",
       "      <th>190559</th>\n",
       "      <td>32</td>\n",
       "      <td>1</td>\n",
       "      <td>6</td>\n",
       "      <td>2</td>\n",
       "      <td>200</td>\n",
       "      <td>0</td>\n",
       "      <td>7</td>\n",
       "      <td>2</td>\n",
       "      <td>1</td>\n",
       "      <td>1</td>\n",
       "      <td>0</td>\n",
       "      <td>1400</td>\n",
       "      <td>1</td>\n",
       "      <td>19</td>\n",
       "    </tr>\n",
       "    <tr>\n",
       "      <th>190560</th>\n",
       "      <td>32</td>\n",
       "      <td>1</td>\n",
       "      <td>5</td>\n",
       "      <td>1</td>\n",
       "      <td>100</td>\n",
       "      <td>0</td>\n",
       "      <td>3</td>\n",
       "      <td>2</td>\n",
       "      <td>2</td>\n",
       "      <td>3</td>\n",
       "      <td>0</td>\n",
       "      <td>22700</td>\n",
       "      <td>1</td>\n",
       "      <td>77</td>\n",
       "    </tr>\n",
       "    <tr>\n",
       "      <th>190561</th>\n",
       "      <td>32</td>\n",
       "      <td>1</td>\n",
       "      <td>3</td>\n",
       "      <td>2</td>\n",
       "      <td>200</td>\n",
       "      <td>0</td>\n",
       "      <td>3</td>\n",
       "      <td>1</td>\n",
       "      <td>1</td>\n",
       "      <td>3</td>\n",
       "      <td>0</td>\n",
       "      <td>0</td>\n",
       "      <td>1</td>\n",
       "      <td>41</td>\n",
       "    </tr>\n",
       "  </tbody>\n",
       "</table>\n",
       "</div>"
      ],
      "text/plain": [
       "        REGION  SEX  MARST  RACE  RACED  CITIZEN  EDUC  HCOVANY  HCOVPUB  \\\n",
       "190557      32    1      6     2    200        0     4        2        2   \n",
       "190558      32    2      6     1    100        0     4        1        1   \n",
       "190559      32    1      6     2    200        0     7        2        1   \n",
       "190560      32    1      5     1    100        0     3        2        2   \n",
       "190561      32    1      3     2    200        0     3        1        1   \n",
       "\n",
       "        EMPSTAT  POVERTY  INCTOT  FAMSIZE  AGE  \n",
       "190557        3        0    9000        1   39  \n",
       "190558        3        0     150        1   21  \n",
       "190559        1        0    1400        1   19  \n",
       "190560        3        0   22700        1   77  \n",
       "190561        3        0       0        1   41  "
      ]
     },
     "execution_count": 52,
     "metadata": {},
     "output_type": "execute_result"
    }
   ],
   "source": [
    "data.head()"
   ]
  },
  {
   "cell_type": "code",
   "execution_count": 53,
   "metadata": {},
   "outputs": [
    {
     "data": {
      "text/plain": [
       "(3239553, 14)"
      ]
     },
     "execution_count": 53,
     "metadata": {},
     "output_type": "execute_result"
    }
   ],
   "source": [
    "data.shape"
   ]
  },
  {
   "cell_type": "markdown",
   "metadata": {},
   "source": [
    "Convert the regions column to the different regions. These regions are encoded as their overall geographical regions."
   ]
  },
  {
   "cell_type": "code",
   "execution_count": 54,
   "metadata": {},
   "outputs": [],
   "source": [
    "# Mapping dictionary\n",
    "region_mapping = {\n",
    "    11: 'Norhteast',\n",
    "    12: 'Norhteast',\n",
    "    13: 'Norhteast',\n",
    "    21: 'Midwest',\n",
    "    22: 'Midwest',\n",
    "    23: 'Midwest',\n",
    "    31: 'South',\n",
    "    32: 'South',\n",
    "    33: 'South',\n",
    "    34: 'South',\n",
    "    41: 'West',\n",
    "    42: 'West',\n",
    "    43: 'West',\n",
    "    91: 'Unidentified',\n",
    "    92: 'Unidentified',\n",
    "    97: 'Unidentified',\n",
    "    99: 'Unidentified'\n",
    "}\n",
    "\n",
    "# Applying the mapping\n",
    "data['REGION'] = data['REGION'].map(region_mapping)"
   ]
  },
  {
   "cell_type": "markdown",
   "metadata": {},
   "source": [
    "Remove records with a missing age"
   ]
  },
  {
   "cell_type": "code",
   "execution_count": 55,
   "metadata": {},
   "outputs": [],
   "source": [
    "data = data[data['AGE']!=999]"
   ]
  },
  {
   "cell_type": "markdown",
   "metadata": {},
   "source": [
    "Convert the sex, and drop all the rows where the sex is missing as this is a category used for identification."
   ]
  },
  {
   "cell_type": "code",
   "execution_count": 56,
   "metadata": {},
   "outputs": [],
   "source": [
    "# Mapping dictionary\n",
    "sex_mapping = {\n",
    "    1: 'Male',\n",
    "    2: 'Female'\n",
    "}\n",
    "\n",
    "# Filter missing sex\n",
    "data = data[data['SEX']!=9]\n",
    "\n",
    "# Applying the mapping to the remaining values\n",
    "data['SEX'] = data['SEX'].map(sex_mapping)"
   ]
  },
  {
   "cell_type": "markdown",
   "metadata": {},
   "source": [
    "Convert the marital status column to reflect if someone is married, separated, or single. Also filter out column which are missing this values as it again is used for identification."
   ]
  },
  {
   "cell_type": "code",
   "execution_count": 57,
   "metadata": {},
   "outputs": [],
   "source": [
    "# Mapping dictionary\n",
    "marital_mapping = {\n",
    "    1: 'Married',\n",
    "    2: 'Married',\n",
    "    3: 'Separated',\n",
    "    4: 'Separated',\n",
    "    5: 'Widowed',\n",
    "    6: 'Single'\n",
    "}\n",
    "\n",
    "# Filter missing marital status\n",
    "data = data[data['MARST']!=9]\n",
    "\n",
    "# Applying the mapping to the remaining values\n",
    "data['MARST'] = data['MARST'].map(marital_mapping)"
   ]
  },
  {
   "cell_type": "markdown",
   "metadata": {},
   "source": [
    "Convert the race colum to reflect some of the major race categories."
   ]
  },
  {
   "cell_type": "code",
   "execution_count": 58,
   "metadata": {},
   "outputs": [],
   "source": [
    "# Mapping dictionary\n",
    "race_mapping = {\n",
    "    1: 'White',\n",
    "    2: 'Black',\n",
    "    3: 'Native_Amer',\n",
    "    4: 'Asian',\n",
    "    5: 'Asian',\n",
    "    6: 'Asian',\n",
    "    7: 'Other',\n",
    "    8: 'Multi',\n",
    "    9: 'Multi'\n",
    "}\n",
    "\n",
    "# Applying the mapping to the remaining values\n",
    "data['RACE'] = data['RACE'].map(race_mapping)"
   ]
  },
  {
   "cell_type": "markdown",
   "metadata": {},
   "source": [
    "Convert the citizenship column to just reflect if someone is or is not a citizen. Drop missing values."
   ]
  },
  {
   "cell_type": "code",
   "execution_count": 59,
   "metadata": {},
   "outputs": [],
   "source": [
    "# Define the mapping from detailed status to 'Yes' or 'No'\n",
    "citizenship_mapping = {\n",
    "    0: \"Yes\",  \n",
    "    1: \"Yes\",\n",
    "    2: \"Yes\",\n",
    "    3: \"No\",\n",
    "    4: \"No\",  \n",
    "    5: \"No\"\n",
    "}\n",
    "\n",
    "# Filter missing citizenship\n",
    "data = data[(data['CITIZEN'] != 9) & (data['CITIZEN'] != 8)]\n",
    "\n",
    "# Applying the mapping to the remaining values\n",
    "data['CITIZEN'] = data['CITIZEN'].map(citizenship_mapping)"
   ]
  },
  {
   "cell_type": "markdown",
   "metadata": {},
   "source": [
    "Convert the education to reflect the higheset level of educational achievement. "
   ]
  },
  {
   "cell_type": "code",
   "execution_count": 60,
   "metadata": {},
   "outputs": [],
   "source": [
    "# Function to categorize education\n",
    "def categorize_education(code):\n",
    "    code = int(code)  # Convert to integer for comparison\n",
    "    if code < 6:\n",
    "        return 'Not_Complete'\n",
    "    elif 6 <= code <= 9:\n",
    "        return 'High_School'\n",
    "    elif code == 10:\n",
    "        return 'Bachelors'\n",
    "    elif code == 11:\n",
    "        return 'Masters'\n",
    "\n",
    "# Filter missing education\n",
    "data = data[data['EDUC']!=99]\n",
    "\n",
    "# Apply the function to the 'EDUC' column\n",
    "data['EDUC'] = data['EDUC'].apply(categorize_education)"
   ]
  },
  {
   "cell_type": "markdown",
   "metadata": {},
   "source": [
    "Convert the Health Care coverage to three categories, no insurance, public insurance and private insurance."
   ]
  },
  {
   "cell_type": "code",
   "execution_count": 61,
   "metadata": {},
   "outputs": [],
   "source": [
    "# Define the function to determine health coverage\n",
    "def determine_health_coverage(row):\n",
    "    if row['HCOVANY'] == 1:\n",
    "        return 'No_Cov'\n",
    "    elif row['HCOVANY'] == 2 and row['HCOVPUB'] == 1:\n",
    "        return 'Priv_Cov'\n",
    "    elif row['HCOVANY'] == 2 and row['HCOVPUB'] == 2:\n",
    "        return 'Pub_Cov'\n",
    "\n",
    "# Apply the function across rows to create the new column\n",
    "data['HEALTHCOV'] = data.apply(determine_health_coverage, axis=1)\n",
    "\n",
    "# Drop the two previous columns\n",
    "data.drop(['HCOVANY', 'HCOVPUB'], axis=1, inplace=True)"
   ]
  },
  {
   "cell_type": "markdown",
   "metadata": {},
   "source": [
    "Convert the employment status to clear categories. Filter out rows with missing values or those that are too young to be eligable."
   ]
  },
  {
   "cell_type": "code",
   "execution_count": 62,
   "metadata": {},
   "outputs": [],
   "source": [
    "# Define the mapping from detailed status\n",
    "employment_mapping = {\n",
    "    1: \"Employed\",  \n",
    "    2: \"Unemployed\",\n",
    "    3: \"Not_in_LaborF\"\n",
    "}\n",
    "\n",
    "# Filter missing employment status\n",
    "data = data[(data['EMPSTAT'] != 9) & (data['EMPSTAT'] != 0)]\n",
    "\n",
    "# Applying the mapping to the remaining values\n",
    "data['EMPSTAT'] = data['EMPSTAT'].map(employment_mapping)"
   ]
  },
  {
   "cell_type": "markdown",
   "metadata": {},
   "source": [
    "Convert the poverty column to those above or below the basic poverty line."
   ]
  },
  {
   "cell_type": "code",
   "execution_count": 63,
   "metadata": {},
   "outputs": [],
   "source": [
    "# Function to categorize education\n",
    "def categorize_poverty(code):\n",
    "    code = int(code)  # Convert to integer for comparison\n",
    "    if code < 100:\n",
    "        return 'Below'\n",
    "    else:\n",
    "        return 'Above'\n",
    "\n",
    "# Apply the function to the 'EDUC' column\n",
    "data['POVERTY'] = data['POVERTY'].apply(categorize_poverty)"
   ]
  },
  {
   "cell_type": "markdown",
   "metadata": {},
   "source": [
    "Filter out income which is not reported (code = 0)"
   ]
  },
  {
   "cell_type": "code",
   "execution_count": 64,
   "metadata": {},
   "outputs": [],
   "source": [
    "data = data[data['INCTOT']!=0]"
   ]
  },
  {
   "cell_type": "markdown",
   "metadata": {},
   "source": [
    "Reorganize the data into the discrete columns first"
   ]
  },
  {
   "cell_type": "code",
   "execution_count": 65,
   "metadata": {},
   "outputs": [],
   "source": [
    "relevant_cols = ['REGION', 'SEX', 'MARST', 'RACE', 'CITIZEN', 'EDUC','HEALTHCOV', 'EMPSTAT', 'POVERTY', \n",
    "                'INCTOT', 'FAMSIZE', 'AGE']\n",
    "\n",
    "data = data[relevant_cols]"
   ]
  },
  {
   "cell_type": "code",
   "execution_count": null,
   "metadata": {},
   "outputs": [],
   "source": [
    "data.head()"
   ]
  },
  {
   "cell_type": "code",
   "execution_count": 67,
   "metadata": {},
   "outputs": [
    {
     "data": {
      "text/plain": [
       "(2387357, 12)"
      ]
     },
     "execution_count": 67,
     "metadata": {},
     "output_type": "execute_result"
    }
   ],
   "source": [
    "data.shape"
   ]
  },
  {
   "cell_type": "markdown",
   "metadata": {},
   "source": [
    "Finally store the data as a new csv for use later."
   ]
  },
  {
   "cell_type": "code",
   "execution_count": 68,
   "metadata": {},
   "outputs": [
    {
     "ename": "",
     "evalue": "",
     "output_type": "error",
     "traceback": [
      "\u001b[1;31mThe Kernel crashed while executing code in the current cell or a previous cell. \n",
      "\u001b[1;31mPlease review the code in the cell(s) to identify a possible cause of the failure. \n",
      "\u001b[1;31mClick <a href='https://aka.ms/vscodeJupyterKernelCrash'>here</a> for more info. \n",
      "\u001b[1;31mView Jupyter <a href='command:jupyter.viewOutput'>log</a> for further details."
     ]
    }
   ],
   "source": [
    "data.to_csv('C:/Users/olsda/OneDrive/Documents/NU classes/Year 4/MMSS Thesis/PITGAN Implenetation/Data/usa_00001/census_clean.csv', index=False)"
   ]
  }
 ],
 "metadata": {
  "kernelspec": {
   "display_name": "Python 3",
   "language": "python",
   "name": "python3"
  },
  "language_info": {
   "codemirror_mode": {
    "name": "ipython",
    "version": 3
   },
   "file_extension": ".py",
   "mimetype": "text/x-python",
   "name": "python",
   "nbconvert_exporter": "python",
   "pygments_lexer": "ipython3",
   "version": "3.12.1"
  }
 },
 "nbformat": 4,
 "nbformat_minor": 2
}
